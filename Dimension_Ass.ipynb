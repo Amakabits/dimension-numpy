{
 "cells": [
  {
   "cell_type": "markdown",
   "metadata": {},
   "source": [
    "Task 1: Creating and Manipulating Arrays."
   ]
  },
  {
   "cell_type": "code",
   "execution_count": 2,
   "metadata": {},
   "outputs": [
    {
     "name": "stdout",
     "output_type": "stream",
     "text": [
      "[ 5 11  8  3  5 15 20  1  9 18]\n"
     ]
    }
   ],
   "source": [
    "import numpy as np\n",
    "\n",
    "# Create a 1-dimensional NumPy array with 10 elements of your choice\n",
    "array = np.array([5, 11, 8, 3, 5, 15, 20, 1, 9, 18])\n",
    "\n",
    "# Print the array\n",
    "print(array)\n"
   ]
  },
  {
   "cell_type": "code",
   "execution_count": 3,
   "metadata": {},
   "outputs": [
    {
     "name": "stdout",
     "output_type": "stream",
     "text": [
      "[[ 5  8 20 19]\n",
      " [12 16  4 14]\n",
      " [ 8 15  3 17]]\n"
     ]
    }
   ],
   "source": [
    "import numpy as np\n",
    "\n",
    "# Create a 2-dimensional NumPy array with shape (3, 4) containing random integers between 1 and 20\n",
    "array = np.random.randint(1, 21, size=(3, 4))\n",
    "\n",
    "# Print the array\n",
    "print(array)\n"
   ]
  },
  {
   "cell_type": "code",
   "execution_count": 5,
   "metadata": {},
   "outputs": [
    {
     "name": "stdout",
     "output_type": "stream",
     "text": [
      "Original 2D array (3x4):\n",
      "[[ 5  6 18  1]\n",
      " [15  3 13 17]\n",
      " [ 6 15  2 18]]\n",
      "\n",
      "Reshaped 2D array (4x3):\n",
      "[[ 5  6 18]\n",
      " [ 1 15  3]\n",
      " [13 17  6]\n",
      " [15  2 18]]\n",
      "\n",
      "Reshaped 1D array:\n",
      "[ 5  6 18  1 15  3 13 17  6 15  2 18]\n",
      "\n",
      "First 5 elements of the 1D array:\n",
      "[ 5  6 18  1 15]\n"
     ]
    }
   ],
   "source": [
    "import numpy as np\n",
    "\n",
    "# Create the original 2D array with shape (3, 4)\n",
    "array = np.random.randint(1, 21, size=(3, 4))\n",
    "print(\"Original 2D array (3x4):\")\n",
    "print(array)\n",
    "\n",
    "# Reshape the array into a 4x3 array\n",
    "reshaped_array_4x3 = array.reshape(4, 3)\n",
    "print(\"\\nReshaped 2D array (4x3):\")\n",
    "print(reshaped_array_4x3)\n",
    "\n",
    "# Reshape the array into a 1D array\n",
    "reshaped_array_1D = reshaped_array_4x3.reshape(-1)\n",
    "print(\"\\nReshaped 1D array:\")\n",
    "print(reshaped_array_1D)\n",
    "\n",
    "# Slice the first 5 elements from the 1D array\n",
    "sliced_array = reshaped_array_1D[:5]\n",
    "print(\"\\nFirst 5 elements of the 1D array:\")\n",
    "print(sliced_array)\n"
   ]
  },
  {
   "cell_type": "code",
   "execution_count": 6,
   "metadata": {},
   "outputs": [
    {
     "name": "stdout",
     "output_type": "stream",
     "text": [
      "Array of zeros (2x3):\n",
      "[[0. 0. 0.]\n",
      " [0. 0. 0.]]\n",
      "\n",
      "Array of ones (3x2):\n",
      "[[1. 1.]\n",
      " [1. 1.]\n",
      " [1. 1.]]\n"
     ]
    }
   ],
   "source": [
    "import numpy as np\n",
    "\n",
    "# Create an array of zeros with shape (2, 3)\n",
    "zeros_array = np.zeros((2, 3))\n",
    "print(\"Array of zeros (2x3):\")\n",
    "print(zeros_array)\n",
    "\n",
    "# Create an array of ones with shape (3, 2)\n",
    "ones_array = np.ones((3, 2))\n",
    "print(\"\\nArray of ones (3x2):\")\n",
    "print(ones_array)\n"
   ]
  },
  {
   "cell_type": "markdown",
   "metadata": {},
   "source": [
    "Task 2: Array Operations."
   ]
  },
  {
   "cell_type": "code",
   "execution_count": 7,
   "metadata": {},
   "outputs": [
    {
     "name": "stdout",
     "output_type": "stream",
     "text": [
      "Element-wise addition:\n",
      "[11 22 33 44]\n",
      "\n",
      "Element-wise subtraction:\n",
      "[ 9 18 27 36]\n",
      "\n",
      "Element-wise multiplication:\n",
      "[ 10  40  90 160]\n",
      "\n",
      "Element-wise division:\n",
      "[10. 10. 10. 10.]\n"
     ]
    }
   ],
   "source": [
    "import numpy as np\n",
    "\n",
    "# Create two arrays of your choice\n",
    "array1 = np.array([10, 20, 30, 40])\n",
    "array2 = np.array([1, 2, 3, 4])\n",
    "\n",
    "# Perform element-wise addition\n",
    "addition = array1 + array2\n",
    "print(\"Element-wise addition:\")\n",
    "print(addition)\n",
    "\n",
    "# Perform element-wise subtraction\n",
    "subtraction = array1 - array2\n",
    "print(\"\\nElement-wise subtraction:\")\n",
    "print(subtraction)\n",
    "\n",
    "# Perform element-wise multiplication\n",
    "multiplication = array1 * array2\n",
    "print(\"\\nElement-wise multiplication:\")\n",
    "print(multiplication)\n",
    "\n",
    "# Perform element-wise division\n",
    "division = array1 / array2\n",
    "print(\"\\nElement-wise division:\")\n",
    "print(division)\n"
   ]
  },
  {
   "cell_type": "code",
   "execution_count": 8,
   "metadata": {},
   "outputs": [
    {
     "name": "stdout",
     "output_type": "stream",
     "text": [
      "Dot product of the two arrays:\n",
      "[[ 58  64]\n",
      " [139 154]]\n"
     ]
    }
   ],
   "source": [
    "import numpy as np\n",
    "\n",
    "# Create two 2D arrays with compatible shapes\n",
    "array1 = np.array([[1, 2, 3],\n",
    "                   [4, 5, 6]])\n",
    "\n",
    "array2 = np.array([[7, 8],\n",
    "                   [9, 10],\n",
    "                   [11, 12]])\n",
    "\n",
    "# Compute the dot product of the two arrays\n",
    "dot_product = np.dot(array1, array2)\n",
    "\n",
    "# Print the result\n",
    "print(\"Dot product of the two arrays:\")\n",
    "print(dot_product)\n"
   ]
  },
  {
   "cell_type": "code",
   "execution_count": 9,
   "metadata": {},
   "outputs": [
    {
     "name": "stdout",
     "output_type": "stream",
     "text": [
      "3x3 Identity matrix:\n",
      "[[1. 0. 0.]\n",
      " [0. 1. 0.]\n",
      " [0. 0. 1.]]\n"
     ]
    }
   ],
   "source": [
    "import numpy as np\n",
    "\n",
    "# Create a 3x3 identity matrix\n",
    "identity_matrix = np.identity(3)\n",
    "\n",
    "# Print the identity matrix\n",
    "print(\"3x3 Identity matrix:\")\n",
    "print(identity_matrix)\n"
   ]
  },
  {
   "cell_type": "code",
   "execution_count": 10,
   "metadata": {},
   "outputs": [
    {
     "name": "stdout",
     "output_type": "stream",
     "text": [
      "Sum of the array: 150\n",
      "Mean of the array: 30.0\n",
      "Standard deviation of the array: 14.142135623730951\n",
      "Variance of the array: 200.0\n"
     ]
    }
   ],
   "source": [
    "import numpy as np\n",
    "\n",
    "# Create a 1D array\n",
    "array = np.array([10, 20, 30, 40, 50])\n",
    "\n",
    "# Calculate the sum\n",
    "sum_array = np.sum(array)\n",
    "print(\"Sum of the array:\", sum_array)\n",
    "\n",
    "# Calculate the mean\n",
    "mean_array = np.mean(array)\n",
    "print(\"Mean of the array:\", mean_array)\n",
    "\n",
    "# Calculate the standard deviation\n",
    "std_dev_array = np.std(array)\n",
    "print(\"Standard deviation of the array:\", std_dev_array)\n",
    "\n",
    "# Calculate the variance\n",
    "variance_array = np.var(array)\n",
    "print(\"Variance of the array:\", variance_array)\n"
   ]
  },
  {
   "cell_type": "markdown",
   "metadata": {},
   "source": [
    "Task 3: Boolean Indexing and Filtering."
   ]
  },
  {
   "cell_type": "code",
   "execution_count": 11,
   "metadata": {},
   "outputs": [
    {
     "name": "stdout",
     "output_type": "stream",
     "text": [
      "Original array:\n",
      "[15 30 16 48 43  8  1  4 20  2 36 25 11 21  9]\n",
      "\n",
      "Filtered array (elements <= 25):\n",
      "[15 16  8  1  4 20  2 25 11 21  9]\n",
      "\n",
      "Array with values < 10 replaced by 10:\n",
      "[15 30 16 48 43 10 10 10 20 10 36 25 11 21 10]\n"
     ]
    }
   ],
   "source": [
    "import numpy as np\n",
    "\n",
    "# Create a 1D array with 15 random integers between 0 and 50\n",
    "array = np.random.randint(0, 51, size=15)\n",
    "print(\"Original array:\")\n",
    "print(array)\n",
    "\n",
    "# Use Boolean indexing to filter out all elements greater than 25\n",
    "filtered_array = array[array <= 25]\n",
    "print(\"\\nFiltered array (elements <= 25):\")\n",
    "print(filtered_array)\n",
    "\n",
    "# Replace all values in the array that are less than 10 with 10\n",
    "array[array < 10] = 10\n",
    "print(\"\\nArray with values < 10 replaced by 10:\")\n",
    "print(array)\n"
   ]
  },
  {
   "cell_type": "markdown",
   "metadata": {},
   "source": [
    "Task 4: Advanced Operations."
   ]
  },
  {
   "cell_type": "code",
   "execution_count": 14,
   "metadata": {},
   "outputs": [
    {
     "name": "stdout",
     "output_type": "stream",
     "text": [
      "5x5 Matrix:\n",
      "[[ 7 31 45 66  9]\n",
      " [32 55 30 57 99]\n",
      " [21 37 53 56 66]\n",
      " [81 50 96 95 59]\n",
      " [48 36 89 10 95]]\n",
      "\n",
      "Minimum value in the matrix: 7\n",
      "Maximum value in the matrix: 99\n",
      "\n",
      "Row-wise sums:\n",
      "[158 273 233 381 278]\n",
      "\n",
      "Column-wise sums:\n",
      "[189 209 313 284 328]\n"
     ]
    }
   ],
   "source": [
    "import numpy as np\n",
    "\n",
    "# Generate a 5x5 matrix with random integers between 0 and 100\n",
    "matrix = np.random.randint(0, 101, size=(5, 5))\n",
    "print(\"5x5 Matrix:\")\n",
    "print(matrix)\n",
    "\n",
    "# Find the minimum and maximum values in the matrix\n",
    "min_value = np.min(matrix)\n",
    "max_value = np.max(matrix)\n",
    "print(\"\\nMinimum value in the matrix:\", min_value)\n",
    "print(\"Maximum value in the matrix:\", max_value)\n",
    "\n",
    "# Calculate the row-wise sums of the matrix\n",
    "row_sums = np.sum(matrix, axis=1)\n",
    "print(\"\\nRow-wise sums:\")\n",
    "print(row_sums)\n",
    "\n",
    "# Calculate the column-wise sums of the matrix\n",
    "column_sums = np.sum(matrix, axis=0)\n",
    "print(\"\\nColumn-wise sums:\")\n",
    "print(column_sums)\n"
   ]
  },
  {
   "cell_type": "code",
   "execution_count": 15,
   "metadata": {},
   "outputs": [
    {
     "name": "stdout",
     "output_type": "stream",
     "text": [
      "Array 1:\n",
      "[[1 2 3]\n",
      " [4 5 6]]\n",
      "\n",
      "Array 2:\n",
      "[[ 7  8  9]\n",
      " [10 11 12]]\n",
      "\n",
      "Vertical stack of Array 1 and Array 2:\n",
      "[[ 1  2  3]\n",
      " [ 4  5  6]\n",
      " [ 7  8  9]\n",
      " [10 11 12]]\n",
      "\n",
      "Horizontal stack of Array 1 and Array 2:\n",
      "[[ 1  2  3  7  8  9]\n",
      " [ 4  5  6 10 11 12]]\n"
     ]
    }
   ],
   "source": [
    "import numpy as np\n",
    "\n",
    "# Create two 2D arrays\n",
    "array1 = np.array([[1, 2, 3],\n",
    "                   [4, 5, 6]])\n",
    "\n",
    "array2 = np.array([[7, 8, 9],\n",
    "                   [10, 11, 12]])\n",
    "\n",
    "print(\"Array 1:\")\n",
    "print(array1)\n",
    "\n",
    "print(\"\\nArray 2:\")\n",
    "print(array2)\n",
    "\n",
    "# Stack the arrays vertically\n",
    "vertical_stack = np.vstack((array1, array2))\n",
    "print(\"\\nVertical stack of Array 1 and Array 2:\")\n",
    "print(vertical_stack)\n",
    "\n",
    "# Stack the arrays horizontally\n",
    "horizontal_stack = np.hstack((array1, array2))\n",
    "print(\"\\nHorizontal stack of Array 1 and Array 2:\")\n",
    "print(horizontal_stack)\n"
   ]
  }
 ],
 "metadata": {
  "kernelspec": {
   "display_name": "Python 3",
   "language": "python",
   "name": "python3"
  },
  "language_info": {
   "codemirror_mode": {
    "name": "ipython",
    "version": 3
   },
   "file_extension": ".py",
   "mimetype": "text/x-python",
   "name": "python",
   "nbconvert_exporter": "python",
   "pygments_lexer": "ipython3",
   "version": "3.12.4"
  }
 },
 "nbformat": 4,
 "nbformat_minor": 2
}
